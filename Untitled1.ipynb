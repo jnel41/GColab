{
  "nbformat": 4,
  "nbformat_minor": 0,
  "metadata": {
    "colab": {
      "name": "Untitled1.ipynb",
      "provenance": [],
      "authorship_tag": "ABX9TyNNZ4IMmz6ma/cC9unD+RlN",
      "include_colab_link": true
    },
    "kernelspec": {
      "name": "python3",
      "display_name": "Python 3"
    },
    "language_info": {
      "name": "python"
    }
  },
  "cells": [
    {
      "cell_type": "markdown",
      "metadata": {
        "id": "view-in-github",
        "colab_type": "text"
      },
      "source": [
        "<a href=\"https://colab.research.google.com/github/jnel41/GColab/blob/code/Untitled1.ipynb\" target=\"_parent\"><img src=\"https://colab.research.google.com/assets/colab-badge.svg\" alt=\"Open In Colab\"/></a>"
      ]
    },
    {
      "cell_type": "code",
      "metadata": {
        "id": "P5J8j5rSt93i"
      },
      "source": [
        "import pandas as df\n",
        "import datetime as dt"
      ],
      "execution_count": null,
      "outputs": []
    },
    {
      "cell_type": "markdown",
      "metadata": {
        "id": "ngJrX6MTuodQ"
      },
      "source": [
        "**2016 Rainfall during Study**"
      ]
    },
    {
      "cell_type": "code",
      "metadata": {
        "id": "fe5EW7KYuyh2"
      },
      "source": [
        "arm0364_16 = pd.read_csv(\"data/raw/ppt/2016_IA0364.csv\", index_col='day')\n",
        "arm0364_16 = arm0364_16.loc['2016-05-16':'2016-06-30']"
      ],
      "execution_count": null,
      "outputs": []
    }
  ]
}